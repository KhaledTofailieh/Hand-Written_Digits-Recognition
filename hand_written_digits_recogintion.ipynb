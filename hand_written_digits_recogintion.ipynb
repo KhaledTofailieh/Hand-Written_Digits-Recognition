{
 "cells": [
  {
   "cell_type": "markdown",
   "metadata": {},
   "source": [
    "<h2><left>Hello, This Notebook Contains example of Hand Written Digits Recognition Algorithm </left></h2>\n",
    "<h4><I><left>- We recognize hand written digits based on scikit-learn library.</left></I></h4>\n",
    "<h4><I><left>- We try to expand dataset based on openCV library, and retrain our models.</left></I></h4>\n",
    "<div class=\"alert alert-block alert-info\" style=\"margin-top: 20px\">\n",
    "        <ul>\n",
    "            <li><h4>Contents:</h4></li>\n",
    "    <ul>\n",
    "        <li><a href=\"#load\">Loading Dataset</a></li>\n",
    "        <li><a href=\"#models\">Models</a></li>\n",
    "        <ul>\n",
    "            <li><a href=\"#k_neighbors\">KNeighbors</a></li>\n",
    "            <li><a href=\"#multinomial\">Multinomial</a></li>\n",
    "        </ul>\n",
    "        <li><a href=\"#expanding\">Expanding Dataset</a></li>\n",
    "    </ul>\n",
    "    </ul>\n",
    "</div>\n",
    "<hr>"
   ]
  },
  {
   "cell_type": "markdown",
   "metadata": {},
   "source": [
    "<a id=\"load\"></a>\n",
    "<h3><left>- Getting Data:</left></h3>\n",
    "<h4><I><left>- loading mnist dataset, plotting some images from dataset.</left></I></h4>"
   ]
  },
  {
   "cell_type": "code",
   "execution_count": null,
   "metadata": {},
   "outputs": [],
   "source": [
    "#import libs\n",
    "from sklearn.datasets import fetch_openml\n",
    "import numpy as np"
   ]
  },
  {
   "cell_type": "code",
   "execution_count": 2,
   "metadata": {},
   "outputs": [],
   "source": [
    "#import data: \n",
    "mnist = fetch_openml('mnist_784',version=1)"
   ]
  },
  {
   "cell_type": "code",
   "execution_count": 3,
   "metadata": {},
   "outputs": [],
   "source": [
    "X, y = mnist['data'],mnist['target']"
   ]
  },
  {
   "cell_type": "code",
   "execution_count": 4,
   "metadata": {},
   "outputs": [],
   "source": [
    "import matplotlib.pyplot as plt\n",
    "\n",
    "def show_some_image(data_sample):\n",
    "    digit_image= data_sample.reshape(28,28)\n",
    "    plt.imshow(digit_image,cmap='binary')\n",
    "    plt.axis('off')\n",
    "    plt.show()\n",
    "    \n",
    "def processed_labels(labels):\n",
    "    lb= labels.astype(np.uint8)\n",
    "    return lb\n",
    "\n",
    "def train_test_split(X,y,split_value):\n",
    "    X_train, X_test, y_train, y_test = X[:split_value], X[split_value:], y[:split_value], y[split_value:]\n",
    "    return X_train,X_test,y_train,y_test"
   ]
  },
  {
   "cell_type": "code",
   "execution_count": 5,
   "metadata": {},
   "outputs": [],
   "source": [
    "y = processed_labels(y)\n",
    "X_train, X_test, y_train, y_test = train_test_split(X,y,60000)"
   ]
  },
  {
   "cell_type": "code",
   "execution_count": null,
   "metadata": {},
   "outputs": [],
   "source": [
    "show_some_image(X_test[1])"
   ]
  },
  {
   "cell_type": "markdown",
   "metadata": {},
   "source": [
    "<a id=\"models\"></a>\n",
    "<h3><left>- Models:</left></h3>\n",
    "<h4><I><left>- training KNeighborsClassifier, MultinomialNB and plotting score metrices.</left></I></h4>"
   ]
  },
  {
   "cell_type": "markdown",
   "metadata": {},
   "source": [
    "<a id=\"k_neighbors\"></a>\n",
    "<h4><left>- KNeighbors:</left></h4>"
   ]
  },
  {
   "cell_type": "code",
   "execution_count": 6,
   "metadata": {},
   "outputs": [
    {
     "data": {
      "text/plain": [
       "KNeighborsClassifier(n_neighbors=4, weights='distance')"
      ]
     },
     "execution_count": 6,
     "metadata": {},
     "output_type": "execute_result"
    }
   ],
   "source": [
    "# models:\n",
    "from sklearn.neighbors import KNeighborsClassifier\n",
    "n_clf = KNeighborsClassifier(weights='distance', n_neighbors=4)\n",
    "n_clf.fit(X_train,y_train)"
   ]
  },
  {
   "cell_type": "code",
   "execution_count": null,
   "metadata": {},
   "outputs": [],
   "source": [
    "# from sklearn.model_selection import cross_val_score\n",
    "# y_predict = cross_val_score(n_clf,X_train,y_train,cv=3,scoring='accuracy')\n",
    "# from sklearn.model_selection import cross_val_predict\n",
    "# y_pred = cross_val_predict(c_clf,X_train,y_train,cv=2)"
   ]
  },
  {
   "cell_type": "code",
   "execution_count": null,
   "metadata": {},
   "outputs": [],
   "source": [
    "n_clf.predict(X_test[:100])"
   ]
  },
  {
   "cell_type": "code",
   "execution_count": 7,
   "metadata": {},
   "outputs": [],
   "source": [
    "X_test = np.array(X_test)"
   ]
  },
  {
   "cell_type": "code",
   "execution_count": 8,
   "metadata": {},
   "outputs": [],
   "source": [
    "y_predict = n_clf.predict(X_test)"
   ]
  },
  {
   "cell_type": "code",
   "execution_count": 11,
   "metadata": {},
   "outputs": [],
   "source": [
    "y_p = np.array([])\n",
    "for i in range(10000):\n",
    "    y_p=np.append(y_p,n_clf.predict([X_test[i]]))"
   ]
  },
  {
   "cell_type": "code",
   "execution_count": 27,
   "metadata": {
    "scrolled": true
   },
   "outputs": [
    {
     "name": "stdout",
     "output_type": "stream",
     "text": [
      "[[ 973    0   10    0    1    4    4    0    5    3]\n",
      " [   1 1132    5    1    5    0    2   17    2    4]\n",
      " [   1    2  995    3    0    0    0    4    4    2]\n",
      " [   0    0    2  974    0    9    0    0   14    7]\n",
      " [   0    0    1    1  950    2    3    3    5    9]\n",
      " [   1    0    0   14    0  862    3    0   11    4]\n",
      " [   3    1    0    1    4    7  946    0    4    1]\n",
      " [   1    0   16    7    3    1    0  994    4   10]\n",
      " [   0    0    3    4    0    3    0    0  920    1]\n",
      " [   0    0    0    5   19    4    0   10    5  968]]\n",
      "0.9714\n",
      "0.9715166824529755\n",
      "0.9714\n"
     ]
    }
   ],
   "source": [
    "from sklearn.metrics import accuracy_score\n",
    "\n",
    "print(confusion_matrix(y_predict,y_test))\n",
    "print(accuracy_score(y_test, y_predict))\n",
    "print(precision_score(y_test,y_predict,average = 'weighted'))\n",
    "print(recall_score(y_test,y_predict,average = 'weighted'))"
   ]
  },
  {
   "cell_type": "markdown",
   "metadata": {},
   "source": [
    "<a id=\"multinomial\"></a>\n",
    "<h4><left>- MultinomialNB:</left></h4>"
   ]
  },
  {
   "cell_type": "code",
   "execution_count": 15,
   "metadata": {},
   "outputs": [
    {
     "data": {
      "text/plain": [
       "MultinomialNB()"
      ]
     },
     "execution_count": 15,
     "metadata": {},
     "output_type": "execute_result"
    }
   ],
   "source": [
    "from sklearn.naive_bayes import MultinomialNB ,BernoulliNB\n",
    "from sklearn.metrics import confusion_matrix\n",
    "from sklearn.metrics import accuracy_score, precision_score, recall_score\n",
    "\n",
    "mnb = MultinomialNB()\n",
    "mnb.fit(X_train, y_train)"
   ]
  },
  {
   "cell_type": "code",
   "execution_count": 19,
   "metadata": {},
   "outputs": [
    {
     "data": {
      "text/plain": [
       "array([[ 912,    0,   15,    4,    2,   23,   17,    1,    6,    6],\n",
       "       [   0, 1061,   11,   11,    2,   11,   13,   21,   26,    7],\n",
       "       [   2,    5,  858,   34,    6,    6,   17,   11,   13,    3],\n",
       "       [   6,    9,   24,  851,    0,  107,    1,    5,   54,   10],\n",
       "       [   1,    0,   10,    1,  732,   18,    7,   19,   14,   66],\n",
       "       [   8,    2,    3,   21,    0,  590,   25,    0,   27,   10],\n",
       "       [  14,    6,   33,    7,   25,   17,  860,    1,    8,    0],\n",
       "       [   1,    0,   11,   14,    1,    6,    0,  861,    9,   17],\n",
       "       [  36,   51,   66,   40,   38,   78,   18,   40,  777,   27],\n",
       "       [   0,    1,    1,   27,  176,   36,    0,   69,   40,  863]],\n",
       "      dtype=int64)"
      ]
     },
     "execution_count": 19,
     "metadata": {},
     "output_type": "execute_result"
    }
   ],
   "source": [
    "predictions_mnb = mnb.predict(X_test)\n",
    "confusion_matrix(predictions_mnb, y_test)"
   ]
  },
  {
   "cell_type": "code",
   "execution_count": 24,
   "metadata": {
    "scrolled": true
   },
   "outputs": [
    {
     "name": "stdout",
     "output_type": "stream",
     "text": [
      "0.8365\n",
      "0.844464008745313\n",
      "0.8365\n"
     ]
    }
   ],
   "source": [
    "print(accuracy_score(y_test,predictions_mnb))\n",
    "print(precision_score(y_test,predictions_mnb,average = 'weighted'))\n",
    "print(recall_score(y_test,predictions_mnb,average = 'weighted'))"
   ]
  },
  {
   "cell_type": "markdown",
   "metadata": {},
   "source": [
    "<a id=\"expanding\"></a>\n",
    "<h3><left>- Expanding Dataset:</left></h3>\n",
    "<h4><I><left>- we try to expand dataset and retrain our models again.</left></I></h4>"
   ]
  },
  {
   "cell_type": "code",
   "execution_count": 60,
   "metadata": {},
   "outputs": [],
   "source": [
    "import cv2 as cv\n",
    "\n",
    "X_train_expanded = np.array(X_train)\n",
    "y_train_expanded = np.array(y_train)\n",
    "\n",
    "def shift_image(data,dx,dy):\n",
    "    M = np.float32([[1,0,dx],[0,1,dy]])  \n",
    "    return cv.warpAffine(data,M,(data.reshape(28,28)).shape).reshape(784)\n",
    "       \n",
    "# print(X_train_expanded.shape)\n",
    "# shifted_images = np.apply_along_axis(shift_image, axis=1, arr=X_train, dx=1, dy=0)\n",
    "# print(shifted_images.shape)\n",
    "# X_ = np.r_[X_train_expanded,shifted_images]\n",
    "# X_.shape"
   ]
  },
  {
   "cell_type": "code",
   "execution_count": 61,
   "metadata": {},
   "outputs": [
    {
     "data": {
      "text/plain": [
       "((300000, 784), (300000,))"
      ]
     },
     "execution_count": 61,
     "metadata": {},
     "output_type": "execute_result"
    }
   ],
   "source": [
    "for dx, dy in ((1, 0), (-1, 0), (0, 1), (0, -1)):\n",
    "    shifted_images = np.apply_along_axis(shift_image, axis=1, arr=X_train, dx=dx, dy=dy)\n",
    "    X_train_expanded = np.r_[X_train_expanded,shifted_images]\n",
    "    y_train_expanded= np.r_[y_train_expanded,y_train]\n",
    "    \n",
    "X_train_expanded.shape, y_train_expanded.shape "
   ]
  },
  {
   "cell_type": "code",
   "execution_count": 67,
   "metadata": {},
   "outputs": [
    {
     "data": {
      "text/plain": [
       "MultinomialNB()"
      ]
     },
     "execution_count": 67,
     "metadata": {},
     "output_type": "execute_result"
    }
   ],
   "source": [
    "mnb_expand = MultinomialNB()\n",
    "mnb_expand.fit(X_train_expanded, y_train_expanded)"
   ]
  },
  {
   "cell_type": "code",
   "execution_count": 68,
   "metadata": {},
   "outputs": [],
   "source": [
    "y_perdict_= mnb_expand.predict(X_test)"
   ]
  },
  {
   "cell_type": "code",
   "execution_count": 69,
   "metadata": {},
   "outputs": [
    {
     "name": "stdout",
     "output_type": "stream",
     "text": [
      "0.8365\n",
      "0.844464008745313\n",
      "0.8365\n"
     ]
    }
   ],
   "source": [
    "print(accuracy_score(y_test,y_perdict_))\n",
    "print(precision_score(y_test,y_perdict_,average = 'weighted'))\n",
    "print(recall_score(y_test,y_perdict_,average = 'weighted'))"
   ]
  },
  {
   "cell_type": "markdown",
   "metadata": {},
   "source": [
    "<h3><I><center>...The End... </center></I></h3>"
   ]
  }
 ],
 "metadata": {
  "kernelspec": {
   "display_name": "Python 3",
   "language": "python",
   "name": "python3"
  },
  "language_info": {
   "codemirror_mode": {
    "name": "ipython",
    "version": 3
   },
   "file_extension": ".py",
   "mimetype": "text/x-python",
   "name": "python",
   "nbconvert_exporter": "python",
   "pygments_lexer": "ipython3",
   "version": "3.7.6"
  }
 },
 "nbformat": 4,
 "nbformat_minor": 4
}
